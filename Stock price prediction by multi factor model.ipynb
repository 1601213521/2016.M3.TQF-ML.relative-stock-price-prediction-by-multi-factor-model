{
 "cells": [
  {
   "cell_type": "code",
   "execution_count": 1,
   "metadata": {
    "collapsed": true
   },
   "outputs": [],
   "source": [
    "import numpy as np\n",
    "import pandas as pd\n",
    "# I get the data and sort it in MATLAB, and save the data as Excel file. Each file contains one-year data."
   ]
  },
  {
   "cell_type": "code",
   "execution_count": 10,
   "metadata": {
    "collapsed": false
   },
   "outputs": [
    {
     "data": {
      "text/html": [
       "<div>\n",
       "<table border=\"1\" class=\"dataframe\">\n",
       "  <thead>\n",
       "    <tr style=\"text-align: right;\">\n",
       "      <th></th>\n",
       "      <th>CLOSE</th>\n",
       "      <th>PCT_CHG</th>\n",
       "    </tr>\n",
       "  </thead>\n",
       "  <tbody>\n",
       "    <tr>\n",
       "      <th>0</th>\n",
       "      <td>898.7830</td>\n",
       "      <td>-8.650517</td>\n",
       "    </tr>\n",
       "    <tr>\n",
       "      <th>1</th>\n",
       "      <td>1948.9010</td>\n",
       "      <td>116.837768</td>\n",
       "    </tr>\n",
       "    <tr>\n",
       "      <th>2</th>\n",
       "      <td>5205.7370</td>\n",
       "      <td>167.111413</td>\n",
       "    </tr>\n",
       "    <tr>\n",
       "      <th>3</th>\n",
       "      <td>1824.4000</td>\n",
       "      <td>-64.954050</td>\n",
       "    </tr>\n",
       "    <tr>\n",
       "      <th>4</th>\n",
       "      <td>3715.3590</td>\n",
       "      <td>103.648268</td>\n",
       "    </tr>\n",
       "    <tr>\n",
       "      <th>5</th>\n",
       "      <td>3443.5760</td>\n",
       "      <td>-7.315121</td>\n",
       "    </tr>\n",
       "    <tr>\n",
       "      <th>6</th>\n",
       "      <td>2500.6520</td>\n",
       "      <td>-27.382117</td>\n",
       "    </tr>\n",
       "    <tr>\n",
       "      <th>7</th>\n",
       "      <td>2645.8580</td>\n",
       "      <td>5.806726</td>\n",
       "    </tr>\n",
       "    <tr>\n",
       "      <th>8</th>\n",
       "      <td>2589.3530</td>\n",
       "      <td>-2.135602</td>\n",
       "    </tr>\n",
       "    <tr>\n",
       "      <th>9</th>\n",
       "      <td>3839.3850</td>\n",
       "      <td>48.275843</td>\n",
       "    </tr>\n",
       "    <tr>\n",
       "      <th>10</th>\n",
       "      <td>4411.9755</td>\n",
       "      <td>14.913599</td>\n",
       "    </tr>\n",
       "  </tbody>\n",
       "</table>\n",
       "</div>"
      ],
      "text/plain": [
       "        CLOSE     PCT_CHG\n",
       "0    898.7830   -8.650517\n",
       "1   1948.9010  116.837768\n",
       "2   5205.7370  167.111413\n",
       "3   1824.4000  -64.954050\n",
       "4   3715.3590  103.648268\n",
       "5   3443.5760   -7.315121\n",
       "6   2500.6520  -27.382117\n",
       "7   2645.8580    5.806726\n",
       "8   2589.3530   -2.135602\n",
       "9   3839.3850   48.275843\n",
       "10  4411.9755   14.913599"
      ]
     },
     "execution_count": 10,
     "metadata": {},
     "output_type": "execute_result"
    }
   ],
   "source": [
    "# The yearly data are from 2005 to 2015. There are 10 gourps(features in this year with return in next year).\n",
    "# choose companies listed before 2005, and remove those company whose data is not complete. Then 1037 stocks are considered.\n",
    "# I choose 13 factors(all fundmental factors) according to some analysis reports, including total market value, EPS, BPS\n",
    "# 12-month swing, 100-week volitility, 3-year net income growth, 3-year revenue growth, 60-day price change, \n",
    "# 120-day price change, 240-day price change, operating income, total current assets, and account receivable.\n",
    "data1=pd.read_excel(r'C:\\Users\\Fu\\Documents\\GitHub\\Project\\data1.xlsx')\n",
    "data2=pd.read_excel(r'C:\\Users\\Fu\\Documents\\GitHub\\Project\\data2.xlsx')\n",
    "data3=pd.read_excel(r'C:\\Users\\Fu\\Documents\\GitHub\\Project\\data3.xlsx')\n",
    "data4=pd.read_excel(r'C:\\Users\\Fu\\Documents\\GitHub\\Project\\data4.xlsx')\n",
    "data5=pd.read_excel(r'C:\\Users\\Fu\\Documents\\GitHub\\Project\\data5.xlsx')\n",
    "data6=pd.read_excel(r'C:\\Users\\Fu\\Documents\\GitHub\\Project\\data6.xlsx')\n",
    "data7=pd.read_excel(r'C:\\Users\\Fu\\Documents\\GitHub\\Project\\data7.xlsx')\n",
    "data8=pd.read_excel(r'C:\\Users\\Fu\\Documents\\GitHub\\Project\\data8.xlsx')\n",
    "data9=pd.read_excel(r'C:\\Users\\Fu\\Documents\\GitHub\\Project\\data9.xlsx')\n",
    "data10=pd.read_excel(r'C:\\Users\\Fu\\Documents\\GitHub\\Project\\data10.xlsx')\n",
    "index=pd.read_excel(r'C:\\Users\\Fu\\Documents\\GitHub\\Project\\index.xlsx')    # the market index(CSI 800 Index)\n",
    "index"
   ]
  },
  {
   "cell_type": "code",
   "execution_count": 3,
   "metadata": {
    "collapsed": true
   },
   "outputs": [],
   "source": [
    "from sklearn.preprocessing import StandardScaler\n",
    "from sklearn.svm import SVC\n",
    "from sklearn.pipeline import Pipeline\n",
    "from sklearn.metrics import accuracy_score\n",
    "from sklearn.decomposition import PCA"
   ]
  },
  {
   "cell_type": "code",
   "execution_count": 14,
   "metadata": {
    "collapsed": false,
    "scrolled": false
   },
   "outputs": [
    {
     "data": {
      "text/plain": [
       "[[0.45033751205400191,\n",
       "  0.61523625843780139,\n",
       "  0.17550626808100289,\n",
       "  0.38283510125361619,\n",
       "  0.38572806171648988,\n",
       "  0.94503375120540023,\n",
       "  0.38090646094503378],\n",
       " [0.45130183220829317,\n",
       "  0.61909353905496622,\n",
       "  0.070395371263259399,\n",
       "  0.38187078109932499,\n",
       "  0.3741562198649952,\n",
       "  0.95274831243973002,\n",
       "  0.38090646094503378]]"
      ]
     },
     "execution_count": 14,
     "metadata": {},
     "output_type": "execute_result"
    }
   ],
   "source": [
    "# in each year, use the current-year data as training data, and the next-year data as testing data.\n",
    "# As we'll adjust the method after seeing the result, the last 2-year data is remianed for final prediction test.\n",
    "accuracy=[]\n",
    "accuracy_pca=[]\n",
    "for i in range(1,8):     # choose 8 out of 10 years\n",
    "    s_train=\"data\"+str(i)\n",
    "    data_train=eval(s_train)\n",
    "    X_train,Y_train=data_train.iloc[:,1:14].values,data_train.iloc[:,-1].values\n",
    "    s_test=\"data\"+str(i+1)\n",
    "    data_test=eval(s_test)\n",
    "    X_test,Y_test=data_test.iloc[:,1:14].values,data_test.iloc[:,-1].values\n",
    "    \n",
    "    s=StandardScaler()\n",
    "    X_train_std=s.fit_transform(X_train)\n",
    "    X_test_std=s.fit_transform(X_test)\n",
    "    \n",
    "    Y_train=Y_train>index['PCT_CHG'][i]\n",
    "    Y_test=Y_test>index['PCT_CHG'][i+1]\n",
    "    \n",
    "    svm_linear=SVC(kernel='linear',C=1.0,random_state=0)\n",
    "    svm_linear.fit(X_train_std,Y_train)\n",
    "    \n",
    "    score1=svm_linear.score(X_test_std,Y_test)\n",
    "    accuracy.append(score1)   # the accuracy result by SVM\n",
    "    \n",
    "    pipe_svm_pca = Pipeline([('scl', StandardScaler()),\n",
    "                         ('pca', PCA(n_components=2)),\n",
    "                    ('clf', SVC(kernel='linear', C=1.0, random_state=0))])\n",
    "    pipe_svm_pca.fit(X_train_std,Y_train)\n",
    "    score2=pipe_svm_pca.score(X_test_std,Y_test)\n",
    "    accuracy_pca.append(score2)\n",
    "\n",
    "[accuracy,accuracy_pca]"
   ]
  },
  {
   "cell_type": "code",
   "execution_count": null,
   "metadata": {
    "collapsed": true
   },
   "outputs": [],
   "source": [
    "# However the answer is much different from MATLAB result.\n",
    "#accuracy\n",
    "#[0.446480231436837\n",
    "#0.591128254580521\n",
    "#0.661523625843780\n",
    "#0.586306653809065\n",
    "#0.469623915139826\n",
    "#0.525554484088717\n",
    "#0.641272902603664]   the mean accuracy is 0.5603, which is an acceptable pattern to set up a strategy."
   ]
  },
  {
   "cell_type": "code",
   "execution_count": 15,
   "metadata": {
    "collapsed": false
   },
   "outputs": [
    {
     "name": "stdout",
     "output_type": "stream",
     "text": [
      "SVM train accuracy : 0.477\n",
      "SVM(with PCA) train accuracy : 0.461\n"
     ]
    }
   ],
   "source": [
    "print('SVM train accuracy : %.3f' %np.mean(accuracy))\n",
    "print('SVM(with PCA) train accuracy : %.3f' %np.mean(accuracy_pca))"
   ]
  },
  {
   "cell_type": "code",
   "execution_count": 17,
   "metadata": {
    "collapsed": false,
    "scrolled": true
   },
   "outputs": [
    {
     "data": {
      "text/plain": [
       "[2, 4, 5, 6, 7]"
      ]
     },
     "execution_count": 17,
     "metadata": {},
     "output_type": "execute_result"
    }
   ],
   "source": [
    "# To furthur test these factors. in each loop, eliminating one factor and calculate the test accuracy, if the accuracy \n",
    "# increases, the factor would be eliminated from the model.\n",
    "accuracy_el=[]\n",
    "for i in range(1,8):\n",
    "    s_train=\"data\"+str(i)\n",
    "    data_train=eval(s_train)\n",
    "    X_train,Y_train=data_train.iloc[:,1:14].values,data_train.iloc[:,-1].values\n",
    "    s_test=\"data\"+str(i+1)\n",
    "    data_test=eval(s_test)\n",
    "    X_test,Y_test=data_test.iloc[:,1:14].values,data_test.iloc[:,-1].values\n",
    "    \n",
    "    s=StandardScaler()\n",
    "    X_train_std=s.fit_transform(X_train)\n",
    "    X_test_std=s.fit_transform(X_test)\n",
    "    \n",
    "    Y_train=Y_train>index['PCT_CHG'][i]\n",
    "    Y_test=Y_test>index['PCT_CHG'][i+1]\n",
    "    accuracy_j=[]\n",
    "    for j in range(0,13):\n",
    "        X_train_std_el=np.array([[row[k] for k in range(0, 13) if k != j] for row in X_train_std])   # remove the jth factor's data\n",
    "        X_test_std_el=np.array([[row[k] for k in range(0, 13) if k != j] for row in X_test_std]) \n",
    "\n",
    "        svm_linear=SVC(kernel='linear',C=1.0,random_state=0)\n",
    "        svm_linear.fit(X_train_std_el,Y_train)\n",
    "        score3=svm_linear.score(X_test_std_el,Y_test)\n",
    "        accuracy_j.append(score3)\n",
    "    accuracy_el.append(accuracy_j)\n",
    "\n",
    "isredundant=np.mean(accuracy_el,axis=0)-np.mean(accuracy)>0\n",
    "redundant=[]\n",
    "for i in range(len(isredundant)):\n",
    "    if isredundant[i]:\n",
    "        redundant.append(i)\n",
    "redundant"
   ]
  },
  {
   "cell_type": "code",
   "execution_count": null,
   "metadata": {
    "collapsed": true
   },
   "outputs": [],
   "source": [
    "# After test, only 8 faactors left,total market value, BPS, 12-month swing, 100-week volitility,\n",
    "# 60-day price change, 120-day price change, 240-day price change,  and account receivable."
   ]
  },
  {
   "cell_type": "code",
   "execution_count": 18,
   "metadata": {
    "collapsed": false
   },
   "outputs": [
    {
     "data": {
      "text/plain": [
       "[0.45033751205400191,\n",
       " 0.62680810028929601,\n",
       " 0.17839922854387658,\n",
       " 0.38187078109932499,\n",
       " 0.37608486017357762,\n",
       " 0.95178399228543875,\n",
       " 0.38090646094503378,\n",
       " 0.47637415621986501,\n",
       " 0.38283510125361619]"
      ]
     },
     "execution_count": 18,
     "metadata": {},
     "output_type": "execute_result"
    }
   ],
   "source": [
    "# final (prediction) test\n",
    "accuracy_rest=[]\n",
    "for i in range(1,10):\n",
    "    s_train=\"data\"+str(i)\n",
    "    data_train=eval(s_train)\n",
    "    X_train,Y_train=data_train.iloc[:,1:14].values,data_train.iloc[:,-1].values\n",
    "    s_test=\"data\"+str(i+1)\n",
    "    data_test=eval(s_test)\n",
    "    X_test,Y_test=data_test.iloc[:,1:14].values,data_test.iloc[:,-1].values\n",
    "    \n",
    "    s=StandardScaler()\n",
    "    X_train_std=s.fit_transform(X_train)\n",
    "    X_test_std=s.fit_transform(X_test)\n",
    "    \n",
    "    Y_train=Y_train>index['PCT_CHG'][i]\n",
    "    Y_test=Y_test>index['PCT_CHG'][i+1]\n",
    "    X_train_std_rest=np.array([[row[k] for k in range(0, 13) if (not k in redundant)] for row in X_train_std]) \n",
    "    X_test_std_rest=np.array([[row[k] for k in range(0, 13) if (not k in redundant)] for row in X_test_std]) \n",
    "\n",
    "    svm_linear=SVC(kernel='linear',C=1.0,random_state=0)\n",
    "    svm_linear.fit(X_train_std_rest,Y_train)\n",
    "    score4=svm_linear.score(X_test_std_rest,Y_test)\n",
    "    accuracy_rest.append(score4)\n",
    "accuracy_rest"
   ]
  },
  {
   "cell_type": "code",
   "execution_count": 19,
   "metadata": {
    "collapsed": false
   },
   "outputs": [
    {
     "name": "stdout",
     "output_type": "stream",
     "text": [
      "SVM(with remained factors) prediction accuracy : 0.467\n"
     ]
    }
   ],
   "source": [
    "print('SVM(with remained factors) prediction accuracy : %.3f' %np.mean(accuracy_rest))\n",
    "# The result is much different from MATLAB(0.567), too."
   ]
  },
  {
   "cell_type": "code",
   "execution_count": null,
   "metadata": {
    "collapsed": true
   },
   "outputs": [],
   "source": [
    "# From the result, the predition accuracy is stably higher than 50%(in MATLAB). Thus we can construct a investing strategy\n",
    "# Just test a direct and easy one. Buy all the stocks that is predicted to be better than the index in euqal weight.\n",
    "# the calculation and result are in MATLAB file."
   ]
  }
 ],
 "metadata": {
  "kernelspec": {
   "display_name": "Python 3",
   "language": "python",
   "name": "python3"
  },
  "language_info": {
   "codemirror_mode": {
    "name": "ipython",
    "version": 3
   },
   "file_extension": ".py",
   "mimetype": "text/x-python",
   "name": "python",
   "nbconvert_exporter": "python",
   "pygments_lexer": "ipython3",
   "version": "3.6.0"
  }
 },
 "nbformat": 4,
 "nbformat_minor": 2
}
